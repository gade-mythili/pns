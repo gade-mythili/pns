{
  "nbformat": 4,
  "nbformat_minor": 0,
  "metadata": {
    "colab": {
      "provenance": [],
      "authorship_tag": "ABX9TyOpOgPnpAEu/IO2ELjYz0Cv",
      "include_colab_link": true
    },
    "kernelspec": {
      "name": "python3",
      "display_name": "Python 3"
    },
    "language_info": {
      "name": "python"
    }
  },
  "cells": [
    {
      "cell_type": "markdown",
      "metadata": {
        "id": "view-in-github",
        "colab_type": "text"
      },
      "source": [
        "<a href=\"https://colab.research.google.com/github/gade-mythili/pns/blob/main/ass1(pns)_07_01_25.ipynb\" target=\"_parent\"><img src=\"https://colab.research.google.com/assets/colab-badge.svg\" alt=\"Open In Colab\"/></a>"
      ]
    },
    {
      "cell_type": "code",
      "execution_count": null,
      "metadata": {
        "colab": {
          "base_uri": "https://localhost:8080/"
        },
        "id": "2WaJbSzCuSXC",
        "outputId": "21354a16-b1d2-451b-ec4e-09151bf7d65a"
      },
      "outputs": [
        {
          "output_type": "stream",
          "name": "stdout",
          "text": [
            "[[ 9 10 11]\n",
            " [15 16 17]\n",
            " [21 22 23]\n",
            " [35 36 37]]\n"
          ]
        }
      ],
      "source": [
        "import numpy as np\n",
        "A=np.array([[9,10,11],[15,16,17],[21,22,23],[35,36,37]])\n",
        "print(A)"
      ]
    },
    {
      "cell_type": "code",
      "source": [
        "print(A[:,2])"
      ],
      "metadata": {
        "colab": {
          "base_uri": "https://localhost:8080/"
        },
        "id": "jwJwDA_4vN1x",
        "outputId": "11897f86-2cfb-4b71-c5ae-e9b49b957490"
      },
      "execution_count": null,
      "outputs": [
        {
          "output_type": "stream",
          "name": "stdout",
          "text": [
            "[11 17 23 37]\n"
          ]
        }
      ]
    },
    {
      "cell_type": "code",
      "source": [
        "print(A[2,:])\n"
      ],
      "metadata": {
        "colab": {
          "base_uri": "https://localhost:8080/"
        },
        "id": "1heLXHLjvmhn",
        "outputId": "a948925c-31aa-46fb-8ac9-d8ad3a467558"
      },
      "execution_count": null,
      "outputs": [
        {
          "output_type": "stream",
          "name": "stdout",
          "text": [
            "[21 22 23]\n"
          ]
        }
      ]
    },
    {
      "cell_type": "code",
      "source": [
        "print(np.size(A))\n",
        "\n"
      ],
      "metadata": {
        "colab": {
          "base_uri": "https://localhost:8080/"
        },
        "id": "VUfCjDwEv9Wj",
        "outputId": "749c9f7b-583d-4272-a813-dcad6149b118"
      },
      "execution_count": null,
      "outputs": [
        {
          "output_type": "stream",
          "name": "stdout",
          "text": [
            "12\n"
          ]
        }
      ]
    },
    {
      "cell_type": "code",
      "source": [
        "print(A[2,2])"
      ],
      "metadata": {
        "colab": {
          "base_uri": "https://localhost:8080/"
        },
        "id": "CO27y7QWwOvo",
        "outputId": "5b25e196-e451-423c-b513-b6fb6caade2b"
      },
      "execution_count": null,
      "outputs": [
        {
          "output_type": "stream",
          "name": "stdout",
          "text": [
            "23\n"
          ]
        }
      ]
    }
  ]
}