{
  "nbformat": 4,
  "nbformat_minor": 0,
  "metadata": {
    "colab": {
      "provenance": [],
      "authorship_tag": "ABX9TyN50Yun81Q0LnF44zdj65Lf",
      "include_colab_link": true
    },
    "kernelspec": {
      "name": "python3",
      "display_name": "Python 3"
    },
    "language_info": {
      "name": "python"
    }
  },
  "cells": [
    {
      "cell_type": "markdown",
      "metadata": {
        "id": "view-in-github",
        "colab_type": "text"
      },
      "source": [
        "<a href=\"https://colab.research.google.com/github/gade-mythili/pns/blob/main/lab3(pns).ipynb\" target=\"_parent\"><img src=\"https://colab.research.google.com/assets/colab-badge.svg\" alt=\"Open In Colab\"/></a>"
      ]
    },
    {
      "cell_type": "markdown",
      "source": [
        "#Question 1: Ungrouped data"
      ],
      "metadata": {
        "id": "T4eBSPBft4oj"
      }
    },
    {
      "cell_type": "markdown",
      "source": [
        "Given the ungrouped dataset below, calculate the median and mode:\n",
        "Dataset: [12, 45, 67, 23, 45, 89, 45, 12, 33, 67, 67, 78, 45, 23, 23, 56, 89, 45, 33, 45]\n",
        "Tasks:\n",
        "1. Compute the median and mode using numpy.\n",
        "2. Compute the mode using pandas."
      ],
      "metadata": {
        "id": "QpR4Go7ttRz8"
      }
    },
    {
      "cell_type": "code",
      "execution_count": 1,
      "metadata": {
        "colab": {
          "base_uri": "https://localhost:8080/"
        },
        "id": "oMA4lkGqsdot",
        "outputId": "f5e2183a-0fd3-4dfe-af86-c184a03e7bfb"
      },
      "outputs": [
        {
          "output_type": "stream",
          "name": "stdout",
          "text": [
            "Median using numpy: 45.0\n"
          ]
        }
      ],
      "source": [
        "import numpy as np\n",
        "import pandas as pd\n",
        "data=[12, 45, 67, 23, 45, 89, 45, 12, 33, 67, 67, 78, 45, 23, 23, 56, 89, 45, 33, 45]\n",
        "median_numpy=np.median(data)\n",
        "print(\"Median using numpy:\",median_numpy)"
      ]
    },
    {
      "cell_type": "code",
      "source": [
        "data=[12, 45, 67, 23, 45, 89, 45, 12, 33, 67, 67, 78, 45, 23, 23, 56, 89, 45, 33, 45]\n",
        "mode_numpy=np.bincount(data).argmax()\n",
        "print(\"Mode using numpy:\",mode_numpy)"
      ],
      "metadata": {
        "colab": {
          "base_uri": "https://localhost:8080/"
        },
        "id": "_8qtqv1vtxHG",
        "outputId": "436d3c9c-01e0-4fad-e058-19b6de4fffca"
      },
      "execution_count": 2,
      "outputs": [
        {
          "output_type": "stream",
          "name": "stdout",
          "text": [
            "Mode using numpy: 45\n"
          ]
        }
      ]
    },
    {
      "cell_type": "code",
      "source": [
        "mode_pandas = pd.Series(data).mode()[0]\n",
        "print(\"Mode using pandas:\",mode_pandas)"
      ],
      "metadata": {
        "colab": {
          "base_uri": "https://localhost:8080/"
        },
        "id": "kq6vdsrcuHHP",
        "outputId": "549efeba-1337-4cee-9af5-3b255b7abfbb"
      },
      "execution_count": 3,
      "outputs": [
        {
          "output_type": "stream",
          "name": "stdout",
          "text": [
            "Mode using pandas: 45\n"
          ]
        }
      ]
    },
    {
      "cell_type": "markdown",
      "source": [
        "#Question 2: Grouped Data\n",
        "The following data shows the frequency of scores in a test:\n",
        "Score Frequency\n",
        "10 5\n",
        "20 8\n",
        "30 12\n",
        "40 15\n",
        "50 7\n",
        "Tasks:\n",
        "1. Compute the median and mode using numpy.\n",
        "2. Compute the mode using pandas."
      ],
      "metadata": {
        "id": "uu_auazKuRs2"
      }
    },
    {
      "cell_type": "code",
      "source": [
        "Score=[10,20,30,40,50]\n",
        "Frequency=[5,8,12,15,7]"
      ],
      "metadata": {
        "id": "Dti3j4mCu_DT"
      },
      "execution_count": 6,
      "outputs": []
    },
    {
      "cell_type": "code",
      "source": [
        "df = pd.DataFrame({'Score': Score, 'Frequency': Frequency})\n",
        "median = np.median(df['Score'])\n",
        "print(\"median using numpy\",median)"
      ],
      "metadata": {
        "colab": {
          "base_uri": "https://localhost:8080/"
        },
        "id": "Cmb4-IHEuPxZ",
        "outputId": "b87a5219-2a82-40cb-f73a-d7148fb57a6c"
      },
      "execution_count": 7,
      "outputs": [
        {
          "output_type": "stream",
          "name": "stdout",
          "text": [
            "median using numpy 30.0\n"
          ]
        }
      ]
    },
    {
      "cell_type": "code",
      "source": [
        "mode = df['Score'].mode()[0]\n",
        "print(\"mode using numpy\",mode)"
      ],
      "metadata": {
        "colab": {
          "base_uri": "https://localhost:8080/"
        },
        "id": "fBxUWR27vH6Y",
        "outputId": "c48d79d2-844e-465f-9c47-6ddb97a93055"
      },
      "execution_count": 8,
      "outputs": [
        {
          "output_type": "stream",
          "name": "stdout",
          "text": [
            "mode using numpy 10\n"
          ]
        }
      ]
    },
    {
      "cell_type": "markdown",
      "source": [
        "#Question 3: Grouped Data\n",
        "The following data represents a frequency distribution with class intervals:\n",
        "Class Interval Frequency\n",
        "#0 − 10 4\n",
        "#10 − 20 6\n",
        "#20 − 30 10\n",
        "#30 − 40 8\n",
        "#40 − 50 2\n",
        "\n"
      ],
      "metadata": {
        "id": "bjJ2bCncyRX_"
      }
    },
    {
      "cell_type": "code",
      "source": [
        "import pandas as pd\n",
        "import numpy as np\n",
        "\n",
        "class_intervals = [(0, 10), (10,20), (20,30), (30,40),(40,50)]\n",
        "frequencies = [4,6,10,8,2]\n",
        "df = pd.DataFrame({'Class': class_intervals, 'Frequency':frequencies})\n",
        "df['Cumulative Frequency'] = df['Frequency'].cumsum()\n",
        "\n",
        "median = np.median(df['Class'])\n",
        "\n",
        "mode = df['Class'].mode()[0]\n",
        "mode = df['Class'].mode()[0]\n",
        "print(f\"Median: {median}\")\n",
        "print(f\"Mode: {mode}\")"
      ],
      "metadata": {
        "colab": {
          "base_uri": "https://localhost:8080/"
        },
        "id": "JwOdu9HtyQ-2",
        "outputId": "5fb097c0-97ca-4742-aa8b-3af8ab98e80f"
      },
      "execution_count": 9,
      "outputs": [
        {
          "output_type": "stream",
          "name": "stdout",
          "text": [
            "Median: [20. 30.]\n",
            "Mode: (0, 10)\n"
          ]
        }
      ]
    }
  ]
}