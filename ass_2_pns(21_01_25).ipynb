{
  "nbformat": 4,
  "nbformat_minor": 0,
  "metadata": {
    "colab": {
      "provenance": [],
      "authorship_tag": "ABX9TyMUqvuaLo3SmaUrpHlEKlKw",
      "include_colab_link": true
    },
    "kernelspec": {
      "name": "python3",
      "display_name": "Python 3"
    },
    "language_info": {
      "name": "python"
    }
  },
  "cells": [
    {
      "cell_type": "markdown",
      "metadata": {
        "id": "view-in-github",
        "colab_type": "text"
      },
      "source": [
        "<a href=\"https://colab.research.google.com/github/gade-mythili/pns/blob/main/ass_2_pns(21_01_25).ipynb\" target=\"_parent\"><img src=\"https://colab.research.google.com/assets/colab-badge.svg\" alt=\"Open In Colab\"/></a>"
      ]
    },
    {
      "cell_type": "markdown",
      "source": [
        "Question 1: Ungrouped Data\n",
        "The dataset below represents the ages of 500 people in a city:\n",
        "Data (Ages):\n",
        "Data: [45, 67, 89, 23, 45, 67, 89, 34, 56, 78, 90, 21, 45, 67, 89, 23, 45,\n",
        "56, 78, 34, 23, 45, 67, 89, 45, 67, 89, 12, 34, 56, 78, 90, 23, 45,\n",
        "67, 12, 34, 78, 45, 67, 89, 34, 56, 78, 90, 23, 56, 78, 89, 45, 12,\n",
        "67, 45, 78, 23, 45, 67, 89, 34, 45, 23, 78, 67, 89, 45, 67, 89, 12,\n",
        "34, 56, 78, 90, 23, 12, 34, 56, 78, 23, 45, 67, 89, 34, 45, 23, 45,\n",
        "67, 89, 12, 34, 56, 78, 90, 45, 23].\n",
        "• Use numpy and pandas to calculate the median and mode of the dataset.\n",
        "• Comment on the efficiency of your approach."
      ],
      "metadata": {
        "id": "zid4XGjLv9fg"
      }
    },
    {
      "cell_type": "code",
      "source": [
        "ages= [45, 67, 89, 23, 45, 67, 89, 34, 56, 78, 90, 21, 45, 67, 89, 23, 45,\n",
        "56, 78, 34, 23, 45, 67, 89, 45, 67, 89, 12, 34, 56, 78, 90, 23, 45,\n",
        "67, 12, 34, 78, 45, 67, 89, 34, 56, 78, 90, 23, 56, 78, 89, 45, 12,\n",
        "67, 45, 78, 23, 45, 67, 89, 34, 45, 23, 78, 67, 89, 45, 67, 89, 12,\n",
        "34, 56, 78, 90, 23, 12, 34, 56, 78, 23, 45, 67, 89, 34, 45, 23, 45,\n",
        "67, 89, 12, 34, 56, 78, 90, 45, 23]"
      ],
      "metadata": {
        "id": "CUEoYYfxxa0u"
      },
      "execution_count": 4,
      "outputs": []
    },
    {
      "cell_type": "code",
      "source": [
        "sum(ages)"
      ],
      "metadata": {
        "colab": {
          "base_uri": "https://localhost:8080/"
        },
        "id": "4hPKDgVewElw",
        "outputId": "a401d0d2-2762-4d5d-e712-8435cd3f2ca3"
      },
      "execution_count": 5,
      "outputs": [
        {
          "output_type": "execute_result",
          "data": {
            "text/plain": [
              "5146"
            ]
          },
          "metadata": {},
          "execution_count": 5
        }
      ]
    },
    {
      "cell_type": "code",
      "source": [
        "len(ages)"
      ],
      "metadata": {
        "colab": {
          "base_uri": "https://localhost:8080/"
        },
        "id": "yLoidbBoxDBG",
        "outputId": "2dd14708-1520-4766-bbc0-a8a1000ee290"
      },
      "execution_count": 6,
      "outputs": [
        {
          "output_type": "execute_result",
          "data": {
            "text/plain": [
              "94"
            ]
          },
          "metadata": {},
          "execution_count": 6
        }
      ]
    },
    {
      "cell_type": "code",
      "source": [
        "mean=sum(ages)/len(ages)"
      ],
      "metadata": {
        "id": "D7s40A32xG7z"
      },
      "execution_count": 7,
      "outputs": []
    },
    {
      "cell_type": "code",
      "source": [
        "print(mean)"
      ],
      "metadata": {
        "colab": {
          "base_uri": "https://localhost:8080/"
        },
        "id": "3IqQsZ44xmTC",
        "outputId": "73a64be8-50d3-4ff0-a9cf-9872f8d1b6ab"
      },
      "execution_count": 8,
      "outputs": [
        {
          "output_type": "stream",
          "name": "stdout",
          "text": [
            "54.744680851063826\n"
          ]
        }
      ]
    },
    {
      "cell_type": "markdown",
      "source": [
        "The table below represents the scores of 2000 students in an exam and their corresponding\n",
        "frequencies:\n",
        "#Scores (X): [10, 20, 30, 40, 50, 60, 70, 80, 90, 100]\n",
        "#Frequency (F): [200, 350, 400, 300, 250, 200, 150, 80, 50, 20]\n",
        "#• Use pandas to calculate the median and mode of this grouped data.\n",
        "#• Write a Python function to handle grouped data calculations efficiently for large datasets.\n",
        "\n"
      ],
      "metadata": {
        "id": "TON8hTbCyAbT"
      }
    },
    {
      "cell_type": "code",
      "source": [
        "import numpy as np\n",
        "import pandas as pd"
      ],
      "metadata": {
        "id": "F33Gsq2gyZoP"
      },
      "execution_count": 10,
      "outputs": []
    },
    {
      "cell_type": "code",
      "source": [
        "Scores =[10, 20, 30, 40, 50, 60, 70, 80, 90, 100]\n",
        "Frequency=[200, 350, 400, 300, 250, 200, 150, 80, 50, 20]"
      ],
      "metadata": {
        "id": "oEppwxLxyQeY"
      },
      "execution_count": 12,
      "outputs": []
    },
    {
      "cell_type": "code",
      "source": [
        "sum_fx=sum(Frequency*Scores for Frequency,Scores in zip(Frequency,Scores))"
      ],
      "metadata": {
        "id": "yPDCvXdrz4Pf"
      },
      "execution_count": 13,
      "outputs": []
    },
    {
      "cell_type": "code",
      "source": [
        "sum_f=sum(Frequency)"
      ],
      "metadata": {
        "id": "giWdh_jg0LA9"
      },
      "execution_count": 14,
      "outputs": []
    },
    {
      "cell_type": "code",
      "source": [
        "mean=sum_fx/sum_f"
      ],
      "metadata": {
        "id": "CVXSn3n20O9w"
      },
      "execution_count": 15,
      "outputs": []
    },
    {
      "cell_type": "code",
      "source": [
        "print(mean)\n"
      ],
      "metadata": {
        "colab": {
          "base_uri": "https://localhost:8080/"
        },
        "id": "kzutZdIt0T5l",
        "outputId": "80d8be4b-d62c-4dac-8e9c-5844f34b36f7"
      },
      "execution_count": 16,
      "outputs": [
        {
          "output_type": "stream",
          "name": "stdout",
          "text": [
            "40.45\n"
          ]
        }
      ]
    },
    {
      "cell_type": "markdown",
      "source": [
        "The following table shows the income distribution of 1000 households (in $1000s):\n",
        "#Income Range (Class Interval) Frequency\n",
        "#(0-20) 50\n",
        "#20  40 120\n",
        "#40  60 200\n",
        "#60  80 300\n",
        "#80  100 220\n",
        "#100  120 70\n",
        "#120  140 40\n",
        "#• Use Python to calculate the median and mode for the grouped data.\n",
        "#• For mode, determine the modal class.\n",
        "\n"
      ],
      "metadata": {
        "id": "oijr6lQm0epU"
      }
    },
    {
      "cell_type": "code",
      "source": [
        "Income_Range=[(0,20),(20,40),(40,60),(60,80),(80,100),(100,120),(120,140)]\n",
        "Frequency=[50,120,200,300,220,70,40]"
      ],
      "metadata": {
        "id": "KdcGZxg307Pg"
      },
      "execution_count": 17,
      "outputs": []
    },
    {
      "cell_type": "code",
      "source": [
        "midpoints=[(start+end)/2 for start,end in Income_Range]"
      ],
      "metadata": {
        "id": "wmB68KXJ2MiW"
      },
      "execution_count": 18,
      "outputs": []
    },
    {
      "cell_type": "code",
      "source": [
        "sum_fx=sum(Frequency*midpoints for Frequency,midpoints in zip(Frequency,midpoints))"
      ],
      "metadata": {
        "id": "Oc0NIyEE2SKF"
      },
      "execution_count": 19,
      "outputs": []
    },
    {
      "cell_type": "code",
      "source": [
        "mean=sum_fx/sum(Frequency)"
      ],
      "metadata": {
        "id": "WVnPjtvl2VF1"
      },
      "execution_count": 20,
      "outputs": []
    },
    {
      "cell_type": "code",
      "source": [
        "print(mean)"
      ],
      "metadata": {
        "colab": {
          "base_uri": "https://localhost:8080/"
        },
        "id": "TP32aB7H2Wa6",
        "outputId": "0315f56f-d4ca-4a6b-9da3-d9893b6d0207"
      },
      "execution_count": 21,
      "outputs": [
        {
          "output_type": "stream",
          "name": "stdout",
          "text": [
            "67.8\n"
          ]
        }
      ]
    }
  ]
}